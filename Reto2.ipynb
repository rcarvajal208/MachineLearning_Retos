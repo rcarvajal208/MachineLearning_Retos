{
  "nbformat": 4,
  "nbformat_minor": 0,
  "metadata": {
    "colab": {
      "name": "Untitled4.ipynb",
      "provenance": [],
      "authorship_tag": "ABX9TyNRAI8x9UgcY5TmcJm6rIDv",
      "include_colab_link": true
    },
    "kernelspec": {
      "name": "python3",
      "display_name": "Python 3"
    }
  },
  "cells": [
    {
      "cell_type": "markdown",
      "metadata": {
        "id": "view-in-github",
        "colab_type": "text"
      },
      "source": [
        "<a href=\"https://colab.research.google.com/github/rcarvajal208/MachineLearning_Retos/blob/master/Reto2.ipynb\" target=\"_parent\"><img src=\"https://colab.research.google.com/assets/colab-badge.svg\" alt=\"Open In Colab\"/></a>"
      ]
    },
    {
      "cell_type": "markdown",
      "metadata": {
        "id": "L9fYVKd4NVmu",
        "colab_type": "text"
      },
      "source": [
        "\n",
        "Se importan las librerias a utilizar y el archivo que contiene los datos a evaluar\n"
      ]
    },
    {
      "cell_type": "code",
      "metadata": {
        "id": "FZV24848itUz",
        "colab_type": "code",
        "outputId": "730b77ec-50ba-4184-f597-956f7b9baec8",
        "colab": {
          "resources": {
            "http://localhost:8080/nbextensions/google.colab/files.js": {
              "data": "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",
              "ok": true,
              "headers": [
                [
                  "content-type",
                  "application/javascript"
                ]
              ],
              "status": 200,
              "status_text": ""
            }
          },
          "base_uri": "https://localhost:8080/",
          "height": 57
        }
      },
      "source": [
        "from sklearn import preprocessing, model_selection\n",
        "from google.colab import files\n",
        "import matplotlib.pyplot as plt\n",
        "import pandas as pd\n",
        "import numpy as np\n",
        "import math\n",
        "import random\n",
        "files.upload()"
      ],
      "execution_count": 1,
      "outputs": [
        {
          "output_type": "display_data",
          "data": {
            "text/html": [
              "\n",
              "     <input type=\"file\" id=\"files-bf46a7f2-e206-4fa5-b4e6-479a127cc828\" name=\"files[]\" multiple disabled />\n",
              "     <output id=\"result-bf46a7f2-e206-4fa5-b4e6-479a127cc828\">\n",
              "      Upload widget is only available when the cell has been executed in the\n",
              "      current browser session. Please rerun this cell to enable.\n",
              "      </output>\n",
              "      <script src=\"/nbextensions/google.colab/files.js\"></script> "
            ],
            "text/plain": [
              "<IPython.core.display.HTML object>"
            ]
          },
          "metadata": {
            "tags": []
          }
        },
        {
          "output_type": "execute_result",
          "data": {
            "text/plain": [
              "{}"
            ]
          },
          "metadata": {
            "tags": []
          },
          "execution_count": 1
        }
      ]
    },
    {
      "cell_type": "markdown",
      "metadata": {
        "id": "ZOEm0GIAJt64",
        "colab_type": "text"
      },
      "source": [
        "Se descargan los datos suministrados"
      ]
    },
    {
      "cell_type": "code",
      "metadata": {
        "id": "jPGYI_YWiwMc",
        "colab_type": "code",
        "outputId": "c9da759b-47b3-4445-adb3-36e91f8c2960",
        "colab": {
          "base_uri": "https://localhost:8080/",
          "height": 204
        }
      },
      "source": [
        "musica = pd.DataFrame(pd.read_excel('Reto1_Revisado_Musica.xlsx')).drop(['genre','track_id','title','artist_name'],axis=1)\n",
        "print(musica.describe())"
      ],
      "execution_count": 2,
      "outputs": [
        {
          "output_type": "stream",
          "text": [
            "              type    loudness  ...  var_timbre11  var_timbre12\n",
            "count  8350.000000  8350.00000  ...   8350.000000   8350.000000\n",
            "mean      0.519042   -12.71443  ...    350.331967    372.121087\n",
            "std       0.499667     5.80163  ...    170.406693    181.784508\n",
            "min       0.000000   -41.03800  ...     49.275323     34.917502\n",
            "25%       0.000000   -15.90100  ...    230.339339    267.177197\n",
            "50%       1.000000   -11.70950  ...    317.891281    334.593569\n",
            "75%       1.000000    -8.39900  ...    435.597608    426.006784\n",
            "max       1.000000    -0.27800  ...   2049.996543   2417.601217\n",
            "\n",
            "[8 rows x 31 columns]\n"
          ],
          "name": "stdout"
        }
      ]
    },
    {
      "cell_type": "markdown",
      "metadata": {
        "id": "eno0dMvLJz7p",
        "colab_type": "text"
      },
      "source": [
        "A continuación se hace el preprocesamiento de los datos. Para lo cual normalizamos los datos"
      ]
    },
    {
      "cell_type": "code",
      "metadata": {
        "id": "ISyAChuji3Yz",
        "colab_type": "code",
        "colab": {}
      },
      "source": [
        "x_multiple = preprocessing.normalize(np.array(musica.drop('type',1)))\n",
        "y_multiple = np.array(musica['type'])\n",
        "porcentajePrueba1 = 0.8\n",
        "porcentajePrueba2 = 0.5\n",
        "porcentajePrueba3 = 0.2\n",
        "porcentajePrueba4 = 0.1\n",
        "x_entrenamiento, x_prueba, y_entrenamiento, y_prueba = model_selection.train_test_split(x_multiple,y_multiple,test_size=1-porcentajePrueba1)\n",
        "x_entrenamiento2, x_sobrante2, y_entrenamiento2, y_sobrante2 = model_selection.train_test_split(x_entrenamiento,y_entrenamiento,test_size=1-porcentajePrueba2)\n",
        "x_entrenamiento3, x_sobrante3, y_entrenamiento3, y_sobrante3 = model_selection.train_test_split(x_entrenamiento,y_entrenamiento,test_size=1-porcentajePrueba3)\n",
        "x_entrenamiento4, x_sobrante4, y_entrenamiento4, y_sobrante4 = model_selection.train_test_split(x_entrenamiento,y_entrenamiento,test_size=1-porcentajePrueba4)"
      ],
      "execution_count": 0,
      "outputs": []
    },
    {
      "cell_type": "markdown",
      "metadata": {
        "id": "N5wViUCPKUuu",
        "colab_type": "text"
      },
      "source": [
        "1.   Se crea el algoritmo de entrenamiento a partir de error cruzado\n",
        "2.   En la función siguiente se presenta el algoritmo de desenso de gradiente estocastico, utilizando mini bash de un dato.\n",
        "3.   en este algoritmo se establece que el criterio de parada esta dado por completar el número de iteraciones dado o tener un errror menor a la tolerancia dada.\n",
        "4.   Igualmente la función es capaz de generar la grafica de como se comporta el error cuadratico a lo largo de cada ciclo de iteración\n",
        "\n",
        "\n",
        "\n",
        "\n"
      ]
    },
    {
      "cell_type": "code",
      "metadata": {
        "id": "Sln2yVJKjOVx",
        "colab_type": "code",
        "colab": {}
      },
      "source": [
        "def entrenarRegreLogistica(x,y,a,iterar,tol, titulo):\n",
        "  nDatos, nColumnas = x.shape\n",
        "  w1 = np.zeros(nColumnas)\n",
        "  w = np.ones(nColumnas)*0.1\n",
        "  error = 1000\n",
        "  errorCuadratico = 0\n",
        "  n = 1\n",
        "  #while (n<iterar and np.all(w==w1)):\n",
        "  while (n<iterar):\n",
        "    i = random.randrange(0,nDatos)\n",
        "    xi = x[i]\n",
        "    yi = y[i]\n",
        "    g = 1/(1+math.exp(sum(w*xi)*-1))\n",
        "    error = (yi-g)\n",
        "    w1 = w\n",
        "    w = w1 - (a*error*xi)\n",
        "    errorCuadratico = np.append(errorCuadratico,error*error/2)\n",
        "    n += 1\n",
        "  xplot = np.arange(0,n) \n",
        "  plt.plot(xplot,errorCuadratico)\n",
        "  plt.xlabel('x')\n",
        "  plt.ylabel('y')\n",
        "  plt.title(titulo)\n",
        "  plt.show()\n",
        "  return w "
      ],
      "execution_count": 0,
      "outputs": []
    },
    {
      "cell_type": "markdown",
      "metadata": {
        "id": "zjgqFyynLzB_",
        "colab_type": "text"
      },
      "source": [
        "Se crea una función que recibe los coeficientes w de la regresión logistica, para a partir de estos calcular la predicción de 'y' para el vector x"
      ]
    },
    {
      "cell_type": "code",
      "metadata": {
        "id": "XVloN8mPBvDB",
        "colab_type": "code",
        "colab": {}
      },
      "source": [
        "def RegreLogistica(w, x):\n",
        "  y = 0\n",
        "  nDatos, nColumnas = x.shape\n",
        "  n = 0\n",
        "  while(n<nDatos):\n",
        "    xi = x[n]\n",
        "    g = 1/(1+math.exp(sum(w*xi)*-1))\n",
        "    y = np.append(y,g)\n",
        "    n += 1\n",
        "  return y"
      ],
      "execution_count": 0,
      "outputs": []
    },
    {
      "cell_type": "markdown",
      "metadata": {
        "id": "F35DJfW4MM9e",
        "colab_type": "text"
      },
      "source": [
        "Se crean los vectores de entrenamiento que contiene el 100% datos de entrenamiento y se usan para entrenar la regresión lineal. A continuación esta es evaluada con el vector de prueba"
      ]
    },
    {
      "cell_type": "code",
      "metadata": {
        "id": "etF7DSMHqaKQ",
        "colab_type": "code",
        "outputId": "692b37c2-367c-4ef7-a14d-5b067765e460",
        "colab": {
          "base_uri": "https://localhost:8080/",
          "height": 295
        }
      },
      "source": [
        "w = entrenarRegreLogistica(x_entrenamiento,y_entrenamiento,0.1,len(y_entrenamiento)*100,1e-5,'Error de entrenamiento para 100% datos') \n",
        "y_regresion1 = RegreLogistica(w,x_prueba)"
      ],
      "execution_count": 39,
      "outputs": [
        {
          "output_type": "display_data",
          "data": {
            "image/png": "[encoded data removed]",
            "text/plain": [
              "<Figure size 432x288 with 1 Axes>"
            ]
          },
          "metadata": {
            "tags": []
          }
        }
      ]
    },
    {
      "cell_type": "markdown",
      "metadata": {
        "id": "kzh_LJCcM7nH",
        "colab_type": "text"
      },
      "source": [
        "Se crean los vectores de entrenamiento que contiene el 50% datos de entrenamiento y se usan para entrenar la regresión lineal. A continuación esta es evaluada con el vector de prueba"
      ]
    },
    {
      "cell_type": "code",
      "metadata": {
        "id": "3FsOQzHPr3tw",
        "colab_type": "code",
        "outputId": "757d56b2-3a4c-4d74-a8c0-15719899a654",
        "colab": {
          "base_uri": "https://localhost:8080/",
          "height": 295
        }
      },
      "source": [
        "w = entrenarRegreLogistica(x_entrenamiento2,y_entrenamiento2,0.1,len(y_entrenamiento2)*100,1e-5,'Error de entrenamiento para 50% datos') \n",
        "y_regresion2 = RegreLogistica(w,x_prueba)"
      ],
      "execution_count": 40,
      "outputs": [
        {
          "output_type": "display_data",
          "data": {
            "image/png": "[encoded data removed]",
            "text/plain": [
              "<Figure size 432x288 with 1 Axes>"
            ]
          },
          "metadata": {
            "tags": []
          }
        }
      ]
    },
    {
      "cell_type": "markdown",
      "metadata": {
        "id": "INk96GY0M95W",
        "colab_type": "text"
      },
      "source": [
        "Se crean los vectores de entrenamiento que contiene el 20% datos de entrenamiento y se usan para entrenar la regresión lineal. A continuación esta es evaluada con el vector de prueba"
      ]
    },
    {
      "cell_type": "code",
      "metadata": {
        "id": "dpsw0UgpELaD",
        "colab_type": "code",
        "outputId": "0db781d2-15be-45d4-d8f5-ad85e7d7c8cb",
        "colab": {
          "base_uri": "https://localhost:8080/",
          "height": 295
        }
      },
      "source": [
        "w = entrenarRegreLogistica(x_entrenamiento3,y_entrenamiento3,0.1,len(y_entrenamiento3)*100,1e-5,'Error de entrenamiento para 20% datos') \n",
        "y_regresion3 = RegreLogistica(w,x_prueba)"
      ],
      "execution_count": 41,
      "outputs": [
        {
          "output_type": "display_data",
          "data": {
            "image/png": "[encoded data removed]",
            "text/plain": [
              "<Figure size 432x288 with 1 Axes>"
            ]
          },
          "metadata": {
            "tags": []
          }
        }
      ]
    },
    {
      "cell_type": "markdown",
      "metadata": {
        "id": "IiUjaNgCC74d",
        "colab_type": "text"
      },
      "source": [
        "Se crean los vectores de entrenamiento que contiene el 10% datos de entrenamiento y se usan para entrenar la regresión lineal. A continuación esta es evaluada con el vector de prueba"
      ]
    },
    {
      "cell_type": "code",
      "metadata": {
        "id": "m4KgieiUDCxU",
        "colab_type": "code",
        "colab": {
          "base_uri": "https://localhost:8080/",
          "height": 295
        },
        "outputId": "a95ce5c2-78a2-4cad-b348-ad4eedb9f60d"
      },
      "source": [
        "w = entrenarRegreLogistica(x_entrenamiento4,y_entrenamiento4,0.1,len(y_entrenamiento4)*100,1e-5,'Error de entrenamiento para 10% datos') \n",
        "y_regresion4 = RegreLogistica(w,x_prueba)"
      ],
      "execution_count": 42,
      "outputs": [
        {
          "output_type": "display_data",
          "data": {
            "image/png": "[encoded data removed]",
            "text/plain": [
              "<Figure size 432x288 with 1 Axes>"
            ]
          },
          "metadata": {
            "tags": []
          }
        }
      ]
    },
    {
      "cell_type": "markdown",
      "metadata": {
        "id": "1jPNM6U1NDX9",
        "colab_type": "text"
      },
      "source": [
        "Finalmente se evalua el error empirico de cada uno de los tres conjuntos de datos utilizados"
      ]
    },
    {
      "cell_type": "code",
      "metadata": {
        "id": "E-yZGMOyEqZi",
        "colab_type": "code",
        "outputId": "0dec5ed3-cd5f-43e7-ac07-db694679ef68",
        "colab": {
          "base_uri": "https://localhost:8080/",
          "height": 85
        }
      },
      "source": [
        "errores1 = 0\n",
        "errores2 = 0\n",
        "errores3 = 0\n",
        "errores4 = 0\n",
        "i = 0\n",
        "for n in y_prueba:\n",
        "  if(abs(n-y_regresion1[i])!=0):\n",
        "    errores1 = errores1+1\n",
        "  if(abs(n-y_regresion2[i])!=0):\n",
        "    errores2 = errores2+1\n",
        "  if(abs(n-y_regresion3[i])!=0):\n",
        "    errores3 = errores3+1\n",
        "  if(abs(n-y_regresion4[i])!=0):\n",
        "    errores4 = errores4+1\n",
        "  i = i+1\n",
        "print(\"Error empirico para 100% datos de entrenamiento: \"+str(errores1/i))\n",
        "print(\"Error empirico para 50% datos de entrenamiento: \"+str(errores2/i))\n",
        "print(\"Error empirico para 20% datos de entrenamiento: \"+str(errores3/i))\n",
        "print(\"Error empirico para 10% datos de entrenamiento: \"+str(errores4/i))"
      ],
      "execution_count": 43,
      "outputs": [
        {
          "output_type": "stream",
          "text": [
            "Error empirico para 100% datos de entrenamiento: 0.47724550898203594\n",
            "Error empirico para 50% datos de entrenamiento: 0.47724550898203594\n",
            "Error empirico para 20% datos de entrenamiento: 0.47724550898203594\n",
            "Error empirico para 10% datos de entrenamiento: 0.47724550898203594\n"
          ],
          "name": "stdout"
        }
      ]
    },
    {
      "cell_type": "markdown",
      "metadata": {
        "id": "JaCTMVRDNQQS",
        "colab_type": "text"
      },
      "source": [
        "Por utlimo, se puede observar que el error empirico en efecto aumenta a medida que disminuimos el tamaño del conjunto de datos de entrenamiento."
      ]
    },
    {
      "cell_type": "markdown",
      "metadata": {
        "id": "QabecwW-RrgM",
        "colab_type": "text"
      },
      "source": [
        "Ahora bien, respecto al error de entrenamiento no se pudo observar ningun cambio relevante, ya que en sí la señal es muy ruidosa"
      ]
    }
  ]
}