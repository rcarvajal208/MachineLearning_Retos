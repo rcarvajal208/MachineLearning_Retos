{
  "nbformat": 4,
  "nbformat_minor": 0,
  "metadata": {
    "colab": {
      "name": "Untitled4.ipynb",
      "provenance": [],
      "toc_visible": true,
      "authorship_tag": "ABX9TyMhtEF9uyeW/IOn/iRMR4A9",
      "include_colab_link": true
    },
    "kernelspec": {
      "name": "python3",
      "display_name": "Python 3"
    }
  },
  "cells": [
    {
      "cell_type": "markdown",
      "metadata": {
        "id": "view-in-github",
        "colab_type": "text"
      },
      "source": [
        "<a href=\"https://colab.research.google.com/github/rcarvajal208/MachineLearning_Retos/blob/master/Reto5.ipynb\" target=\"_parent\"><img src=\"https://colab.research.google.com/assets/colab-badge.svg\" alt=\"Open In Colab\"/></a>"
      ]
    },
    {
      "cell_type": "markdown",
      "metadata": {
        "id": "L9fYVKd4NVmu",
        "colab_type": "text"
      },
      "source": [
        "#Se importan las librerias"
      ]
    },
    {
      "cell_type": "code",
      "metadata": {
        "id": "FZV24848itUz",
        "colab_type": "code",
        "outputId": "d344411f-6f8e-46dc-8b2b-cdfdb12db836",
        "colab": {
          "resources": {
            "http://localhost:8080/nbextensions/google.colab/files.js": {
              "data": "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",
              "ok": true,
              "headers": [
                [
                  "content-type",
                  "application/javascript"
                ]
              ],
              "status": 200,
              "status_text": ""
            }
          },
          "base_uri": "https://localhost:8080/",
          "height": 57
        }
      },
      "source": [
        "from sklearn import preprocessing, model_selection\n",
        "from sklearn.neural_network import MLPClassifier\n",
        "from google.colab import files\n",
        "import matplotlib.pyplot as plt\n",
        "import pandas as pd\n",
        "import numpy as np\n",
        "import math\n",
        "import random\n",
        "files.upload()"
      ],
      "execution_count": 140,
      "outputs": [
        {
          "output_type": "display_data",
          "data": {
            "text/html": [
              "\n",
              "     <input type=\"file\" id=\"files-de12dae2-9804-4056-bbf5-3983cd8068ec\" name=\"files[]\" multiple disabled />\n",
              "     <output id=\"result-de12dae2-9804-4056-bbf5-3983cd8068ec\">\n",
              "      Upload widget is only available when the cell has been executed in the\n",
              "      current browser session. Please rerun this cell to enable.\n",
              "      </output>\n",
              "      <script src=\"/nbextensions/google.colab/files.js\"></script> "
            ],
            "text/plain": [
              "<IPython.core.display.HTML object>"
            ]
          },
          "metadata": {
            "tags": []
          }
        },
        {
          "output_type": "execute_result",
          "data": {
            "text/plain": [
              "{}"
            ]
          },
          "metadata": {
            "tags": []
          },
          "execution_count": 140
        }
      ]
    },
    {
      "cell_type": "markdown",
      "metadata": {
        "id": "ZOEm0GIAJt64",
        "colab_type": "text"
      },
      "source": [
        "#Se cargan los datos"
      ]
    },
    {
      "cell_type": "code",
      "metadata": {
        "id": "jPGYI_YWiwMc",
        "colab_type": "code",
        "outputId": "c36c1b91-5c88-4487-9a11-014bc5d19cd6",
        "colab": {
          "base_uri": "https://localhost:8080/",
          "height": 204
        }
      },
      "source": [
        "musica = pd.DataFrame(pd.read_excel('Reto1_Revisado_Musica.xlsx')).drop(['genre','track_id','title','artist_name'],axis=1)\n",
        "print(musica.describe())"
      ],
      "execution_count": 141,
      "outputs": [
        {
          "output_type": "stream",
          "text": [
            "              type    loudness  ...  var_timbre11  var_timbre12\n",
            "count  8350.000000  8350.00000  ...   8350.000000   8350.000000\n",
            "mean      0.519042   -12.71443  ...    350.331967    372.121087\n",
            "std       0.499667     5.80163  ...    170.406693    181.784508\n",
            "min       0.000000   -41.03800  ...     49.275323     34.917502\n",
            "25%       0.000000   -15.90100  ...    230.339339    267.177197\n",
            "50%       1.000000   -11.70950  ...    317.891281    334.593569\n",
            "75%       1.000000    -8.39900  ...    435.597608    426.006784\n",
            "max       1.000000    -0.27800  ...   2049.996543   2417.601217\n",
            "\n",
            "[8 rows x 31 columns]\n"
          ],
          "name": "stdout"
        }
      ]
    },
    {
      "cell_type": "markdown",
      "metadata": {
        "id": "eno0dMvLJz7p",
        "colab_type": "text"
      },
      "source": [
        "#Preprocesamiento de datos\n",
        "\n",
        "\n",
        "1.   Se resta la media y deja la varianza entre -1 y 1.\n",
        "2.   Se realizan los conjuntos de datos de entrenamiento, prueba y validación.\n",
        "\n"
      ]
    },
    {
      "cell_type": "code",
      "metadata": {
        "id": "ISyAChuji3Yz",
        "colab_type": "code",
        "colab": {}
      },
      "source": [
        "#x_multiple = preprocessing.normalize(np.array(musica.drop('type',1)))\n",
        "scaler = preprocessing.StandardScaler()\n",
        "x_train = np.array(musica.drop('type',1))\n",
        "scaler.fit(x_train)\n",
        "x_multiple = scaler.transform(x_train)\n",
        "y_multiple = np.array(musica['type'])\n",
        "porcentajePrueba1 = 0.9\n",
        "x_entrenamiento, x_prueba, y_entrenamiento, y_prueba = model_selection.train_test_split(x_multiple,y_multiple,test_size=1-porcentajePrueba1)\n",
        "x_entrenamiento, x_validacion, y_entrenamiento, y_validacion = model_selection.train_test_split(x_entrenamiento,y_entrenamiento,test_size=1-porcentajePrueba1)"
      ],
      "execution_count": 0,
      "outputs": []
    },
    {
      "cell_type": "markdown",
      "metadata": {
        "id": "VvEnuUnDBYI-",
        "colab_type": "text"
      },
      "source": [
        "#Una capa escondida\n",
        "Ahora se va a revisar la eficiencia de las redes neuronales para una sola capa escondida, teniendo en cuenta diferentes tipos de activación y variando la tasa de aprendizaje desde 0.5 hasta 0.005."
      ]
    },
    {
      "cell_type": "code",
      "metadata": {
        "id": "5ytYyobyy0hk",
        "colab_type": "code",
        "outputId": "8cab0e55-6657-49f2-eed1-20c270205b29",
        "colab": {
          "base_uri": "https://localhost:8080/",
          "height": 265
        }
      },
      "source": [
        "max_iter = int(1e4)\n",
        "tasa = 0.01\n",
        "N_neuronas = 2\n",
        "v_N = []\n",
        "eficiencia1 = []\n",
        "while(N_neuronas <= 20): \n",
        "  mlp1 = MLPClassifier(hidden_layer_sizes=(N_neuronas,), activation='relu', max_iter=max_iter, alpha=1e-4, tol = 1e-4, verbose=False, learning_rate_init=tasa)\n",
        "  mlp1.fit(x_entrenamiento, y_entrenamiento)\n",
        "  v_N.append(N_neuronas)\n",
        "  eficiencia1.append(mlp1.score(x_validacion, y_validacion))\n",
        "  N_neuronas += 1\n",
        "plt.scatter(v_N, eficiencia1)\n",
        "plt.show()"
      ],
      "execution_count": 143,
      "outputs": [
        {
          "output_type": "display_data",
          "data": {
            "image/png": "[encoded data removed]",
            "text/plain": [
              "<Figure size 432x288 with 1 Axes>"
            ]
          },
          "metadata": {
            "tags": []
          }
        }
      ]
    },
    {
      "cell_type": "code",
      "metadata": {
        "id": "4VkpZXrajh8K",
        "colab_type": "code",
        "outputId": "3ab7d541-22a2-4b54-9832-d97c94a5e3c7",
        "colab": {
          "base_uri": "https://localhost:8080/",
          "height": 265
        }
      },
      "source": [
        "N_neuronas = 2\n",
        "v_N = []\n",
        "eficiencia2 = []\n",
        "while(N_neuronas <= 20):\n",
        "  mlp2 = MLPClassifier(hidden_layer_sizes=(N_neuronas,), activation='tanh', max_iter=max_iter, alpha=1e-4, tol = 1e-4, verbose=False, learning_rate_init=tasa)\n",
        "  mlp2.fit(x_entrenamiento, y_entrenamiento)\n",
        "  v_N.append(N_neuronas)\n",
        "  eficiencia2.append(mlp1.score(x_validacion, y_validacion))\n",
        "  N_neuronas += 1\n",
        "plt.scatter(v_N, eficiencia2)\n",
        "plt.show()"
      ],
      "execution_count": 144,
      "outputs": [
        {
          "output_type": "display_data",
          "data": {
            "image/png": "[encoded data removed]",
            "text/plain": [
              "<Figure size 432x288 with 1 Axes>"
            ]
          },
          "metadata": {
            "tags": []
          }
        }
      ]
    },
    {
      "cell_type": "code",
      "metadata": {
        "id": "5luG-iQWjh_B",
        "colab_type": "code",
        "colab": {
          "base_uri": "https://localhost:8080/",
          "height": 265
        },
        "outputId": "44427910-a45c-47ca-d63d-a55941b1bd28"
      },
      "source": [
        "N_neuronas = 2\n",
        "v_N = []\n",
        "eficiencia3 = []\n",
        "while(N_neuronas <= 20):\n",
        "  mlp3 = MLPClassifier(hidden_layer_sizes=(N_neuronas,), activation='logistic', max_iter=max_iter, alpha=1e-4, tol = 1e-4, verbose=False, learning_rate_init=tasa)\n",
        "  mlp3.fit(x_entrenamiento, y_entrenamiento)\n",
        "  v_N.append(N_neuronas)\n",
        "  eficiencia3.append(mlp1.score(x_validacion, y_validacion))\n",
        "  N_neuronas += 1\n",
        "plt.scatter(v_N, eficiencia3)\n",
        "plt.show()"
      ],
      "execution_count": 145,
      "outputs": [
        {
          "output_type": "display_data",
          "data": {
            "image/png": "[encoded data removed]",
            "text/plain": [
              "<Figure size 432x288 with 1 Axes>"
            ]
          },
          "metadata": {
            "tags": []
          }
        }
      ]
    },
    {
      "cell_type": "markdown",
      "metadata": {
        "id": "tSsLZdJPEk4H",
        "colab_type": "text"
      },
      "source": [
        "Luego de experimentar para los tres tipos de activación se observo que:\n",
        "\n",
        "1.   La tasa de aprendizaje inicial que entregó los mejores resultados fue la de 0.01.\n",
        "2.   La activación por relu presenta un error empirico menor al de las activaciones sigmoidal y tanh.\n",
        "3.   Ademas se observó que, tanto las activaciones sigmoidal y tanh, son indiferentes del número de neuronas que se utilice para su entrenamiento.\n",
        "4.   Finalmente se observó que en general las redes neuronales con 8 o 9 neuronas suelen ser consistentes respecto a sus buenos resultados en la activación por relu. Por otro lado las otras neuronas suelen mostrar variaciones o respuestas por lo general inferiores.\n"
      ]
    },
    {
      "cell_type": "markdown",
      "metadata": {
        "id": "DwR2yJvfWOzX",
        "colab_type": "text"
      },
      "source": [
        "#Evaluación de la red neuronal\n",
        "Una vez evaluado el error empirico y rteniendo en cuenta el número de datos \\\\\n",
        "Se observa que el indice de confianza es :\n",
        "##$(1-\\delta) = (1 - 2/\\exp(|S{\\small text}|{ \\cdot 2\\varepsilon^2 }))$"
      ]
    },
    {
      "cell_type": "code",
      "metadata": {
        "id": "HRl38DUClsLC",
        "colab_type": "code",
        "colab": {
          "base_uri": "https://localhost:8080/",
          "height": 68
        },
        "outputId": "5e44a668-4094-4421-b478-e7f4ac450e3b"
      },
      "source": [
        "max_iter = int(1e4)\n",
        "tasa = 0.01\n",
        "N_neuronas = 9\n",
        "mlp = MLPClassifier(hidden_layer_sizes=(N_neuronas,), activation='relu', max_iter=max_iter, alpha=1e-4, tol = 1e-4, verbose=False, learning_rate_init=tasa)\n",
        "mlp.fit(x_entrenamiento, y_entrenamiento)\n",
        "E_empirico = 1 - mlp.score(x_prueba, y_prueba)\n",
        "N_datos = y_prueba.shape[0]\n",
        "confianza = 1 - 2/math.exp(N_datos*2*(E_empirico**2))\n",
        "print('Número de datos de prueba = ' + str(N_datos))\n",
        "print('Error empirico = ' + str(E_empirico))\n",
        "print('indice de confianza = ' + str(confianza))\n"
      ],
      "execution_count": 146,
      "outputs": [
        {
          "output_type": "stream",
          "text": [
            "Número de datos de prueba = 835\n",
            "Error empirico = 0.14251497005988023\n",
            "indice de confianza = 0.9999999999999963\n"
          ],
          "name": "stdout"
        }
      ]
    },
    {
      "cell_type": "markdown",
      "metadata": {
        "colab_type": "text",
        "id": "CTDcvD_zTym9"
      },
      "source": [
        "#Dos capas escondidas\n",
        "Ahora se va a revisar la eficiencia de las redes neuronales para una sola capa escondida, teniendo en cuenta diferentes tipos de activación y variando la tasa de aprendizaje desde 0.5 hasta 0.005.*texto en cursiva*"
      ]
    },
    {
      "cell_type": "code",
      "metadata": {
        "colab_type": "code",
        "outputId": "da8ca853-ea34-47e0-e7c8-18f6a59e4db4",
        "id": "CEXIzq7hT2WW",
        "colab": {
          "base_uri": "https://localhost:8080/",
          "height": 1000
        }
      },
      "source": [
        "max_iter = int(1e4)\n",
        "tasa = 0.0075\n",
        "N_neuronas1 = 2\n",
        "while(N_neuronas1 <= 10): \n",
        "  N_neuronas2 = 2\n",
        "  v_N = []\n",
        "  eficiencia1 = []\n",
        "  while(N_neuronas2 <= 15):\n",
        "    mlp1 = MLPClassifier(hidden_layer_sizes=(N_neuronas1,N_neuronas2,), activation='relu', max_iter=max_iter, alpha=1e-4, tol = 1e-4, verbose=False, learning_rate_init=tasa)\n",
        "    mlp1.fit(x_entrenamiento, y_entrenamiento)\n",
        "    v_N.append(N_neuronas2)\n",
        "    eficiencia1.append(mlp1.score(x_validacion, y_validacion))\n",
        "    N_neuronas2 += 1\n",
        "  N_neuronas1 += 1\n",
        "  plt.scatter(v_N, eficiencia1)\n",
        "  plt.show()\n"
      ],
      "execution_count": 147,
      "outputs": [
        {
          "output_type": "display_data",
          "data": {
            "image/png": "[encoded data removed]",
            "text/plain": [
              "<Figure size 432x288 with 1 Axes>"
            ]
          },
          "metadata": {
            "tags": []
          }
        },
        {
          "output_type": "display_data",
          "data": {
            "image/png": "[encoded data removed]",
            "text/plain": [
              "<Figure size 432x288 with 1 Axes>"
            ]
          },
          "metadata": {
            "tags": []
          }
        },
        {
          "output_type": "display_data",
          "data": {
            "image/png": "[encoded data removed]",
            "text/plain": [
              "<Figure size 432x288 with 1 Axes>"
            ]
          },
          "metadata": {
            "tags": []
          }
        },
        {
          "output_type": "display_data",
          "data": {
            "image/png": "[encoded data removed]",
            "text/plain": [
              "<Figure size 432x288 with 1 Axes>"
            ]
          },
          "metadata": {
            "tags": []
          }
        },
        {
          "output_type": "display_data",
          "data": {
            "image/png": "[encoded data removed]",
            "text/plain": [
              "<Figure size 432x288 with 1 Axes>"
            ]
          },
          "metadata": {
            "tags": []
          }
        },
        {
          "output_type": "display_data",
          "data": {
            "image/png": "[encoded data removed]",
            "text/plain": [
              "<Figure size 432x288 with 1 Axes>"
            ]
          },
          "metadata": {
            "tags": []
          }
        },
        {
          "output_type": "display_data",
          "data": {
            "image/png": "[encoded data removed]",
            "text/plain": [
              "<Figure size 432x288 with 1 Axes>"
            ]
          },
          "metadata": {
            "tags": []
          }
        },
        {
          "output_type": "display_data",
          "data": {
            "image/png": "[encoded data removed]",
            "text/plain": [
              "<Figure size 432x288 with 1 Axes>"
            ]
          },
          "metadata": {
            "tags": []
          }
        },
        {
          "output_type": "display_data",
          "data": {
            "image/png": "[encoded data removed]",
            "text/plain": [
              "<Figure size 432x288 with 1 Axes>"
            ]
          },
          "metadata": {
            "tags": []
          }
        }
      ]
    },
    {
      "cell_type": "markdown",
      "metadata": {
        "id": "Y-NcQGnLZKde",
        "colab_type": "text"
      },
      "source": [
        ""
      ]
    },
    {
      "cell_type": "code",
      "metadata": {
        "id": "FAJ__R01UBSb",
        "colab_type": "code",
        "colab": {
          "base_uri": "https://localhost:8080/",
          "height": 761
        },
        "outputId": "17363390-cad5-4013-80ac-4ef98a5ddd2a"
      },
      "source": [
        "N_neuronas1 = 2 \n",
        "while(N_neuronas1 <= 4): \n",
        "  N_neuronas2 = 2\n",
        "  v_N = []\n",
        "  eficiencia2 = []\n",
        "  while(N_neuronas2 <= 15):\n",
        "    mlp2 = MLPClassifier(hidden_layer_sizes=(N_neuronas1,N_neuronas2,), activation='tanh', max_iter=max_iter, alpha=1e-4, tol = 1e-4, verbose=False, learning_rate_init=tasa)\n",
        "    mlp2.fit(x_entrenamiento, y_entrenamiento)\n",
        "    v_N.append(N_neuronas2)\n",
        "    eficiencia2.append(mlp1.score(x_validacion, y_validacion))\n",
        "    N_neuronas2 += 1\n",
        "  N_neuronas1 += 1\n",
        "  plt.scatter(v_N, eficiencia2)\n",
        "  plt.show()"
      ],
      "execution_count": 148,
      "outputs": [
        {
          "output_type": "display_data",
          "data": {
            "image/png": "[encoded data removed]",
            "text/plain": [
              "<Figure size 432x288 with 1 Axes>"
            ]
          },
          "metadata": {
            "tags": []
          }
        },
        {
          "output_type": "display_data",
          "data": {
            "image/png": "[encoded data removed]",
            "text/plain": [
              "<Figure size 432x288 with 1 Axes>"
            ]
          },
          "metadata": {
            "tags": []
          }
        },
        {
          "output_type": "display_data",
          "data": {
            "image/png": "[encoded data removed]",
            "text/plain": [
              "<Figure size 432x288 with 1 Axes>"
            ]
          },
          "metadata": {
            "tags": []
          }
        }
      ]
    },
    {
      "cell_type": "code",
      "metadata": {
        "id": "Sm-o5GeaUBGN",
        "colab_type": "code",
        "colab": {
          "base_uri": "https://localhost:8080/",
          "height": 761
        },
        "outputId": "b35e388f-eb31-4041-af73-d5080c05d4fc"
      },
      "source": [
        "N_neuronas1 = 2 \n",
        "while(N_neuronas1 <= 4): \n",
        "  N_neuronas2 = 2\n",
        "  v_N = []\n",
        "  eficiencia3 = []\n",
        "  while(N_neuronas2 <= 15):\n",
        "    mlp3 = MLPClassifier(hidden_layer_sizes=(N_neuronas1,N_neuronas2,), activation='logistic', max_iter=max_iter, alpha=1e-4, tol = 1e-4, verbose=False, learning_rate_init=tasa)\n",
        "    mlp3.fit(x_entrenamiento, y_entrenamiento)\n",
        "    v_N.append(N_neuronas2)\n",
        "    eficiencia3.append(mlp1.score(x_validacion, y_validacion))\n",
        "    N_neuronas2 += 1\n",
        "  N_neuronas1 += 1\n",
        "  plt.scatter(v_N, eficiencia3)\n",
        "  plt.show()"
      ],
      "execution_count": 149,
      "outputs": [
        {
          "output_type": "display_data",
          "data": {
            "image/png": "[encoded data removed]",
            "text/plain": [
              "<Figure size 432x288 with 1 Axes>"
            ]
          },
          "metadata": {
            "tags": []
          }
        },
        {
          "output_type": "display_data",
          "data": {
            "image/png": "[encoded data removed]",
            "text/plain": [
              "<Figure size 432x288 with 1 Axes>"
            ]
          },
          "metadata": {
            "tags": []
          }
        },
        {
          "output_type": "display_data",
          "data": {
            "image/png": "[encoded data removed]",
            "text/plain": [
              "<Figure size 432x288 with 1 Axes>"
            ]
          },
          "metadata": {
            "tags": []
          }
        }
      ]
    },
    {
      "cell_type": "markdown",
      "metadata": {
        "id": "d05kB6FuUHkT",
        "colab_type": "text"
      },
      "source": [
        "Luego de experimentar para los tres tipos de activación se observo que:\n",
        "\n",
        "1.   La tasa de aprendizaje inicial que entregó los mejores resultados fue la de 0.01.\n",
        "2.   La activación por relu presenta un error empirico menor al de las activaciones sigmoidal y tanh.\n",
        "3.   Ademas se observó que, tanto las activaciones sigmoidal y tanh, son indiferentes del número de neuronas que se utilice para su entrenamiento.\n",
        "4.   Finalmente se observó que en general las redes neuronales con 8 o 9 neuronas suelen ser consistentes respecto a sus buenos resultados en la activación por relu. Por otro lado las otras neuronas suelen mostrar variaciones o respuestas por lo general inferiores.\n"
      ]
    },
    {
      "cell_type": "markdown",
      "metadata": {
        "id": "DZsUCuX7YOd8",
        "colab_type": "text"
      },
      "source": [
        "#Evaluación de la red neuronal\n",
        "Una vez evaluado el error empirico y rteniendo en cuenta el número de datos \\\\\n",
        "Se observa que el indice de confianza es :\n",
        "##$(1-\\delta) = (1 - 2/\\exp(|S{\\small text}|{ \\cdot 2\\varepsilon^2 }))$"
      ]
    },
    {
      "cell_type": "code",
      "metadata": {
        "id": "kI82OmoMYD4G",
        "colab_type": "code",
        "colab": {
          "base_uri": "https://localhost:8080/",
          "height": 68
        },
        "outputId": "3d881ce9-cd4a-407a-8af7-15c0adb8977f"
      },
      "source": [
        "max_iter = int(1e4)\n",
        "tasa = 0.075\n",
        "N_neuronas1 = 9\n",
        "N_neuronas2 = 8\n",
        "mlp = MLPClassifier(hidden_layer_sizes=(N_neuronas1,N_neuronas2,), activation='relu', max_iter=max_iter, alpha=1e-4, tol = 1e-4, verbose=False, learning_rate_init=tasa)\n",
        "mlp.fit(x_entrenamiento, y_entrenamiento)\n",
        "E_empirico = 1 - mlp.score(x_prueba, y_prueba)\n",
        "N_datos = y_prueba.shape[0]\n",
        "confianza = 1 - 2/math.exp(N_datos*2*(E_empirico**2))\n",
        "print('Número de datos de prueba = ' + str(N_datos))\n",
        "print('Error empirico = ' + str(E_empirico))\n",
        "print('indice de confianza = ' + str(confianza))"
      ],
      "execution_count": 150,
      "outputs": [
        {
          "output_type": "stream",
          "text": [
            "Número de datos de prueba = 835\n",
            "Error empirico = 0.14491017964071862\n",
            "indice de confianza = 0.9999999999999988\n"
          ],
          "name": "stdout"
        }
      ]
    },
    {
      "cell_type": "markdown",
      "metadata": {
        "id": "8P001Slrroi8",
        "colab_type": "text"
      },
      "source": [
        "#Prueba random con red de tres capas"
      ]
    },
    {
      "cell_type": "code",
      "metadata": {
        "id": "4Tt9QcxirY4u",
        "colab_type": "code",
        "colab": {
          "base_uri": "https://localhost:8080/",
          "height": 68
        },
        "outputId": "1e6f1e00-5b1f-459f-aeb9-d19f2d33c7e9"
      },
      "source": [
        "max_iter = int(1e4)\n",
        "tasa = 0.075\n",
        "N_neuronas1 = 9\n",
        "N_neuronas2 = 8\n",
        "N_neuronas3 = 3\n",
        "mlp = MLPClassifier(hidden_layer_sizes=(N_neuronas1,N_neuronas2,N_neuronas3,), activation='relu', max_iter=max_iter, alpha=1e-4, tol = 1e-4, verbose=False, learning_rate_init=tasa)\n",
        "mlp.fit(x_entrenamiento, y_entrenamiento)\n",
        "E_empirico = 1 - mlp.score(x_prueba, y_prueba)\n",
        "N_datos = y_prueba.shape[0]\n",
        "confianza = 1 - 2/math.exp(N_datos*2*(E_empirico**2))\n",
        "print('Número de datos de prueba = ' + str(N_datos))\n",
        "print('Error empirico = ' + str(E_empirico))\n",
        "print('indice de confianza = ' + str(confianza))"
      ],
      "execution_count": 151,
      "outputs": [
        {
          "output_type": "stream",
          "text": [
            "Número de datos de prueba = 835\n",
            "Error empirico = 0.15329341317365275\n",
            "indice de confianza = 1.0\n"
          ],
          "name": "stdout"
        }
      ]
    },
    {
      "cell_type": "markdown",
      "metadata": {
        "id": "zkTAmCciUKi9",
        "colab_type": "text"
      },
      "source": [
        "#Conclusiones\n",
        "\n",
        "\n",
        "1.   Tanto las función de activación tipo tanh como sigmoidal presentan un mismo error empirico sin importar el número de neuronas que se esten utilizando para su entrenamiento o la cantidad de capas.\n",
        "2.   Por otro lado, la funciión de activación tipo relu presenta resultados diferentes tanto en cada entrenamiento como en cada tipo de red neuronal utilizada. Sin embargo esta es capaz de generar resultados con un error empirico menor al que se presenta en las otras dos funciones de activación\n",
        "3.   Sin embargo, el error empirico tambien se satura sin importar el número neuronas o capas que se esten utilizando.\n",
        "\n",
        "\n",
        "\n"
      ]
    }
  ]
}